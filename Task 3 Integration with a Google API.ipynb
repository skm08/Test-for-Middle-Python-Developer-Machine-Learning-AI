{
 "cells": [
  {
   "cell_type": "markdown",
   "id": "cd810d6d",
   "metadata": {},
   "source": [
    "# Initial Steps"
   ]
  },
  {
   "cell_type": "markdown",
   "id": "5a8cc160",
   "metadata": {},
   "source": [
    "We are goint to develop an API that will connect with google sheets using python. First of all we need to login in developers.google.com and create a new proejct with a prefered name.\n",
    "\n",
    "Next, go to that project and search for google sheets api and google drive api in product and resources and enable them.\n",
    "\n",
    "After that,select Credentials in Google Cloud Platform and create a Service Account with necessary information. And copy the provided email from the service account.\n",
    "\n",
    "Now, open out google sheet that needs to be connected with our API. Click share option from the top right corner and paste the previously copied email there.\n",
    "\n",
    "Then, again go to the Email in the service account and click Manage Keys. Finaly select add a key from the drop down list and followe JSON as key type and download it.\n",
    "\n",
    "Rename the JSON file as service_account.json and place it to %APPDATA%\\gspread\\service_account.json for windows user."
   ]
  },
  {
   "cell_type": "markdown",
   "id": "9f6a3925",
   "metadata": {},
   "source": [
    "# Import Library and Sheet"
   ]
  },
  {
   "cell_type": "markdown",
   "id": "c2cf0b89",
   "metadata": {},
   "source": [
    "Now we have to install gspread using the following command 'pip install gspread'. Follow the link for offcial documentation of gspread https://docs.gspread.org/en/latest/index.html"
   ]
  },
  {
   "cell_type": "code",
   "execution_count": 1,
   "id": "cdd4209b",
   "metadata": {},
   "outputs": [],
   "source": [
    "import gspread\n",
    "\n",
    "sa = gspread.service_account()\n",
    "sh = sa.open(\"googlesheetapi\") # our google sheet name is googlesheetapi\n",
    "\n",
    "wks = sh.worksheet(\"Sheet1\") # type the name of worksheet, it's Sheet1 in my case"
   ]
  },
  {
   "cell_type": "markdown",
   "id": "980084fa",
   "metadata": {},
   "source": [
    "# Run some commands and check the responses"
   ]
  },
  {
   "cell_type": "markdown",
   "id": "dc73bc36",
   "metadata": {},
   "source": [
    "Checking the total number of rows"
   ]
  },
  {
   "cell_type": "code",
   "execution_count": 2,
   "id": "8a30d205",
   "metadata": {},
   "outputs": [
    {
     "name": "stdout",
     "output_type": "stream",
     "text": [
      "Rows: 1000\n"
     ]
    }
   ],
   "source": [
    "print('Rows:', wks.row_count) # checking the total number of rows"
   ]
  },
  {
   "cell_type": "markdown",
   "id": "56badb42",
   "metadata": {},
   "source": [
    "Checking the total number of Columns"
   ]
  },
  {
   "cell_type": "code",
   "execution_count": 3,
   "id": "8cc5865a",
   "metadata": {},
   "outputs": [
    {
     "name": "stdout",
     "output_type": "stream",
     "text": [
      "Cols: 26\n"
     ]
    }
   ],
   "source": [
    "print('Cols:', wks.col_count)"
   ]
  },
  {
   "cell_type": "markdown",
   "id": "3a26883f",
   "metadata": {},
   "source": [
    "Checking a cell value"
   ]
  },
  {
   "cell_type": "code",
   "execution_count": 4,
   "id": "e6b3582b",
   "metadata": {},
   "outputs": [
    {
     "name": "stdout",
     "output_type": "stream",
     "text": [
      "3676\n"
     ]
    }
   ],
   "source": [
    "print(wks.acell('A9').value)"
   ]
  },
  {
   "cell_type": "code",
   "execution_count": 5,
   "id": "4d25a3ce",
   "metadata": {},
   "outputs": [
    {
     "name": "stdout",
     "output_type": "stream",
     "text": [
      "Mustafizur Rahman\n"
     ]
    }
   ],
   "source": [
    "print(wks.cell(3,4).value)"
   ]
  },
  {
   "cell_type": "markdown",
   "id": "f23b3e88",
   "metadata": {},
   "source": [
    "# Update a cell data"
   ]
  },
  {
   "cell_type": "code",
   "execution_count": 6,
   "id": "ee64213f",
   "metadata": {},
   "outputs": [
    {
     "name": "stderr",
     "output_type": "stream",
     "text": [
      "C:\\Users\\ACER\\AppData\\Local\\Temp\\ipykernel_12052\\1941082005.py:1: DeprecationWarning: [Deprecated][in version 6.0.0]: Method signature's arguments 'range_name' and 'values' will change their order. We recommend using named arguments for minimal impact. In addition, the argument 'values' will be mandatory of type: 'List[List]'. (ex) Worksheet.update(values = [[]], range_name=) \n",
      "  wks.update('A3', '5151')\n"
     ]
    },
    {
     "data": {
      "text/plain": [
       "{'spreadsheetId': '1-qOUi8jpLsPVpGJ1bAHDLQWW1qbAO2Pe9DL9MS4Ambo',\n",
       " 'updatedRange': 'Sheet1!A3',\n",
       " 'updatedRows': 1,\n",
       " 'updatedColumns': 1,\n",
       " 'updatedCells': 1}"
      ]
     },
     "execution_count": 6,
     "metadata": {},
     "output_type": "execute_result"
    }
   ],
   "source": [
    "wks.update('A3', '5151') # update the A3 cell value"
   ]
  },
  {
   "cell_type": "code",
   "execution_count": 7,
   "id": "61675ef3",
   "metadata": {},
   "outputs": [
    {
     "name": "stderr",
     "output_type": "stream",
     "text": [
      "C:\\Users\\ACER\\AppData\\Local\\Temp\\ipykernel_12052\\1846100795.py:1: DeprecationWarning: [Deprecated][in version 6.0.0]: Method signature's arguments 'range_name' and 'values' will change their order. We recommend using named arguments for minimal impact. In addition, the argument 'values' will be mandatory of type: 'List[List]'. (ex) Worksheet.update(values = [[]], range_name=) \n",
      "  wks.update('O2','=UPPER(B2)', raw=False)\n"
     ]
    },
    {
     "data": {
      "text/plain": [
       "{'spreadsheetId': '1-qOUi8jpLsPVpGJ1bAHDLQWW1qbAO2Pe9DL9MS4Ambo',\n",
       " 'updatedRange': 'Sheet1!O2',\n",
       " 'updatedRows': 1,\n",
       " 'updatedColumns': 1,\n",
       " 'updatedCells': 1}"
      ]
     },
     "execution_count": 7,
     "metadata": {},
     "output_type": "execute_result"
    }
   ],
   "source": [
    "wks.update('O2','=UPPER(B2)', raw=False) # O2 cell is filled from another cell"
   ]
  },
  {
   "cell_type": "markdown",
   "id": "d2ffcd97",
   "metadata": {},
   "source": [
    "# Delete a cell"
   ]
  },
  {
   "cell_type": "code",
   "execution_count": 8,
   "id": "ca00f8c6",
   "metadata": {},
   "outputs": [
    {
     "data": {
      "text/plain": [
       "{'spreadsheetId': '1-qOUi8jpLsPVpGJ1bAHDLQWW1qbAO2Pe9DL9MS4Ambo',\n",
       " 'replies': [{}]}"
      ]
     },
     "execution_count": 8,
     "metadata": {},
     "output_type": "execute_result"
    }
   ],
   "source": [
    "wks.delete_rows(606) # This will delete the entire row of 606"
   ]
  },
  {
   "cell_type": "markdown",
   "id": "d516af62",
   "metadata": {},
   "source": [
    "The python API can perform different operations pretty well."
   ]
  }
 ],
 "metadata": {
  "kernelspec": {
   "display_name": "Python 3 (ipykernel)",
   "language": "python",
   "name": "python3"
  },
  "language_info": {
   "codemirror_mode": {
    "name": "ipython",
    "version": 3
   },
   "file_extension": ".py",
   "mimetype": "text/x-python",
   "name": "python",
   "nbconvert_exporter": "python",
   "pygments_lexer": "ipython3",
   "version": "3.9.16"
  }
 },
 "nbformat": 4,
 "nbformat_minor": 5
}
